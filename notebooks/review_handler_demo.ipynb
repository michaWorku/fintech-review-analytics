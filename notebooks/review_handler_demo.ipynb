{
 "cells": [
  {
   "cell_type": "markdown",
   "id": "e6ff5dc7",
   "metadata": {},
   "source": [
    "## Setup & Connect to Oracle"
   ]
  },
  {
   "cell_type": "code",
   "execution_count": 1,
   "id": "fefacadd-3b41-4294-bbf7-fc3c06fe4628",
   "metadata": {},
   "outputs": [],
   "source": [
    "%load_ext autoreload\n",
    "%autoreload 2\n",
    "\n",
    "import sys\n",
    "sys.path.append(\"..\")"
   ]
  },
  {
   "cell_type": "code",
   "execution_count": 2,
   "id": "be14f395",
   "metadata": {},
   "outputs": [],
   "source": [
    "from src.oracle_db_handler import OracleDBHandler\n",
    "import pandas as pd"
   ]
  },
  {
   "cell_type": "markdown",
   "id": "051ac2a5",
   "metadata": {},
   "source": [
    "### Initialize connection (update with your credentials)"
   ]
  },
  {
   "cell_type": "code",
   "execution_count": 16,
   "id": "9dfbd476",
   "metadata": {},
   "outputs": [
    {
     "name": "stdout",
     "output_type": "stream",
     "text": [
      "Attempting to connect with DSN: localhost:1522/XEPDB1 as user: sys\n",
      "✅ Connected to Oracle DB.\n"
     ]
    }
   ],
   "source": [
    "db = OracleDBHandler(user=\"sys\", password=\"micha1234\", dsn=\"localhost:1522/XEPDB1\")                                                                                                                                                                                                                                                                                                                                                                                                                                                                                                                                                                                                                                                                                                                                                                                                                                                                                                                                                                                                                                                                                                                                                                                                                                                                                                                                                                                                                                                                                                                                                                                                                                                                                                                                                                                                                                                                                                                                                                                                                                                                                                                                                                                                                                                                                                                                                                                                                                                                                                                                                                                                                                                                                                                                                                                                                                                                                                                                                                                                                                                                                                                                                                                                                                                                                                                                                                                                                                                                                                                                                                                                                                                                                                                 \n",
    "db.connect()"
   ]
  },
  {
   "cell_type": "markdown",
   "id": "6c8194a4",
   "metadata": {},
   "source": [
    "### Create tables (Only run once)"
   ]
  },
  {
   "cell_type": "code",
   "execution_count": 17,
   "id": "04dcdb7f",
   "metadata": {},
   "outputs": [
    {
     "name": "stdout",
     "output_type": "stream",
     "text": [
      "✅ Schema created.\n"
     ]
    }
   ],
   "source": [
    "# Create tables (only run once)\n",
    "db.create_schema()"
   ]
  },
  {
   "cell_type": "markdown",
   "id": "036eac52",
   "metadata": {},
   "source": [
    "### Insert sample reviews"
   ]
  },
  {
   "cell_type": "code",
   "execution_count": 20,
   "id": "5852a1df",
   "metadata": {},
   "outputs": [],
   "source": [
    "# Load cleaned review dataset\n",
    "df = pd.read_csv(\"../data/processed/review_sentiments_themes.csv\")"
   ]
  },
  {
   "cell_type": "markdown",
   "id": "fdf99588",
   "metadata": {
    "vscode": {
     "languageId": "plaintext"
    }
   },
   "source": [
    "### Insert reviews into Oracle"
   ]
  },
  {
   "cell_type": "code",
   "execution_count": 28,
   "id": "608cceac",
   "metadata": {},
   "outputs": [
    {
     "name": "stdout",
     "output_type": "stream",
     "text": [
      "Inserting 3 new banks individually...\n",
      "New banks inserted and committed.\n",
      "Bank mapping complete for 3 unique banks.\n",
      "Preparing to insert 1407 reviews...\n",
      "📥 Successfully inserted 1407 reviews.\n"
     ]
    }
   ],
   "source": [
    "db.insert_reviews(df)"
   ]
  },
  {
   "cell_type": "markdown",
   "id": "69c59443",
   "metadata": {},
   "source": [
    "### Fetch Reviews"
   ]
  },
  {
   "cell_type": "code",
   "execution_count": 29,
   "id": "272661e7",
   "metadata": {},
   "outputs": [
    {
     "name": "stdout",
     "output_type": "stream",
     "text": [
      "(1, 'CBE', <oracledb.LOB object at 0x7043b8f74c20>, 5, 'POSITIVE', 'Other')\n",
      "(2, 'CBE', <oracledb.LOB object at 0x7043b8f749e0>, 2, 'POSITIVE', 'Other')\n",
      "(3, 'CBE', <oracledb.LOB object at 0x7043b8f76660>, 4, 'NEGATIVE', 'Transaction Issues')\n",
      "(4, 'CBE', <oracledb.LOB object at 0x7043b8f755b0>, 1, 'NEGATIVE', 'Other')\n",
      "(5, 'CBE', <oracledb.LOB object at 0x7043b8f77a70>, 5, 'POSITIVE', 'Other')\n"
     ]
    },
    {
     "data": {
      "text/plain": [
       "[(1, 'CBE', <oracledb.LOB at 0x7043b8f74c20>, 5, 'POSITIVE', 'Other'),\n",
       " (2, 'CBE', <oracledb.LOB at 0x7043b8f749e0>, 2, 'POSITIVE', 'Other'),\n",
       " (3,\n",
       "  'CBE',\n",
       "  <oracledb.LOB at 0x7043b8f76660>,\n",
       "  4,\n",
       "  'NEGATIVE',\n",
       "  'Transaction Issues'),\n",
       " (4, 'CBE', <oracledb.LOB at 0x7043b8f755b0>, 1, 'NEGATIVE', 'Other'),\n",
       " (5, 'CBE', <oracledb.LOB at 0x7043b8f77a70>, 5, 'POSITIVE', 'Other')]"
      ]
     },
     "execution_count": 29,
     "metadata": {},
     "output_type": "execute_result"
    }
   ],
   "source": [
    "# Fetch top 5 reviews from all banks\n",
    "db.fetch_reviews(limit=5)"
   ]
  },
  {
   "cell_type": "markdown",
   "id": "e8225374",
   "metadata": {},
   "source": [
    "### Fetch Reviews by Bank"
   ]
  },
  {
   "cell_type": "code",
   "execution_count": 30,
   "id": "3440b5a8",
   "metadata": {},
   "outputs": [
    {
     "name": "stdout",
     "output_type": "stream",
     "text": [
      "\n",
      "📄 Top 5 reviews for BOA:\n",
      "(923, <oracledb.LOB object at 0x7043b8f99bb0>, 3, 'POSITIVE', 'Other', datetime.datetime(2025, 6, 5, 0, 0))\n",
      "(924, <oracledb.LOB object at 0x7043b8f982f0>, 1, 'NEGATIVE', 'Account Access', datetime.datetime(2025, 6, 3, 0, 0))\n",
      "(925, <oracledb.LOB object at 0x7043b8f982c0>, 5, 'POSITIVE', 'Other', datetime.datetime(2025, 6, 3, 0, 0))\n",
      "(926, <oracledb.LOB object at 0x7043b8f98e90>, 5, 'POSITIVE', 'Other', datetime.datetime(2025, 6, 2, 0, 0))\n",
      "(927, <oracledb.LOB object at 0x7043b8f9ab10>, 1, 'NEGATIVE', 'Other', datetime.datetime(2025, 6, 1, 0, 0))\n"
     ]
    },
    {
     "data": {
      "text/plain": [
       "[(923,\n",
       "  <oracledb.LOB at 0x7043b8f99bb0>,\n",
       "  3,\n",
       "  'POSITIVE',\n",
       "  'Other',\n",
       "  datetime.datetime(2025, 6, 5, 0, 0)),\n",
       " (924,\n",
       "  <oracledb.LOB at 0x7043b8f982f0>,\n",
       "  1,\n",
       "  'NEGATIVE',\n",
       "  'Account Access',\n",
       "  datetime.datetime(2025, 6, 3, 0, 0)),\n",
       " (925,\n",
       "  <oracledb.LOB at 0x7043b8f982c0>,\n",
       "  5,\n",
       "  'POSITIVE',\n",
       "  'Other',\n",
       "  datetime.datetime(2025, 6, 3, 0, 0)),\n",
       " (926,\n",
       "  <oracledb.LOB at 0x7043b8f98e90>,\n",
       "  5,\n",
       "  'POSITIVE',\n",
       "  'Other',\n",
       "  datetime.datetime(2025, 6, 2, 0, 0)),\n",
       " (927,\n",
       "  <oracledb.LOB at 0x7043b8f9ab10>,\n",
       "  1,\n",
       "  'NEGATIVE',\n",
       "  'Other',\n",
       "  datetime.datetime(2025, 6, 1, 0, 0))]"
      ]
     },
     "execution_count": 30,
     "metadata": {},
     "output_type": "execute_result"
    }
   ],
   "source": [
    "# Get reviews for BOA\n",
    "db.get_reviews_by_bank(\"BOA\", limit=5)"
   ]
  },
  {
   "cell_type": "markdown",
   "id": "ff9743eb",
   "metadata": {},
   "source": [
    "### Update Sentiment by Review ID"
   ]
  },
  {
   "cell_type": "code",
   "execution_count": 31,
   "id": "71527b65",
   "metadata": {},
   "outputs": [
    {
     "name": "stdout",
     "output_type": "stream",
     "text": [
      "✅ Updated sentiment for review ID 10\n"
     ]
    }
   ],
   "source": [
    "# Change sentiment of review ID 10\n",
    "db.update_sentiment_by_review_id(review_id=10, sentiment_label=\"neutral\", sentiment_score=0.0)"
   ]
  },
  {
   "cell_type": "markdown",
   "id": "41dde8d9",
   "metadata": {},
   "source": [
    "### Update Sentiment by Bank"
   ]
  },
  {
   "cell_type": "code",
   "execution_count": 32,
   "id": "efb9b35a",
   "metadata": {},
   "outputs": [
    {
     "name": "stdout",
     "output_type": "stream",
     "text": [
      "✅ Updated sentiment for all reviews of Dashen\n"
     ]
    }
   ],
   "source": [
    "# Set all Dashen reviews to 'negative' for test\n",
    "db.update_sentiment_by_bank_name(bank_name=\"Dashen\", sentiment_label=\"negative\", sentiment_score=-0.5)"
   ]
  },
  {
   "cell_type": "markdown",
   "id": "8a43ab6a",
   "metadata": {
    "vscode": {
     "languageId": "plaintext"
    }
   },
   "source": [
    "### Update Theme"
   ]
  },
  {
   "cell_type": "code",
   "execution_count": 33,
   "id": "5c052ab1",
   "metadata": {},
   "outputs": [
    {
     "name": "stdout",
     "output_type": "stream",
     "text": [
      "✅ Updated sentiment for all reviews of Dashen\n"
     ]
    }
   ],
   "source": [
    "# Set all Dashen reviews to 'negative' for test\n",
    "db.update_sentiment_by_bank_name(bank_name=\"Dashen\", sentiment_label=\"negative\", sentiment_score=-0.5)"
   ]
  },
  {
   "cell_type": "markdown",
   "id": "a0945bb5",
   "metadata": {},
   "source": [
    "### Delete Review"
   ]
  },
  {
   "cell_type": "code",
   "execution_count": 34,
   "id": "200dcf8d",
   "metadata": {},
   "outputs": [
    {
     "name": "stdout",
     "output_type": "stream",
     "text": [
      "🗑️ Deleted review with ID 10\n"
     ]
    }
   ],
   "source": [
    "# Delete a single review (use with caution)\n",
    "db.delete_review_by_id(review_id=10)"
   ]
  },
  {
   "cell_type": "markdown",
   "id": "bcaf379b",
   "metadata": {},
   "source": [
    "#### Close connection"
   ]
  },
  {
   "cell_type": "code",
   "execution_count": 35,
   "id": "f957ab7d",
   "metadata": {},
   "outputs": [
    {
     "name": "stdout",
     "output_type": "stream",
     "text": [
      "🔒 Connection closed.\n"
     ]
    }
   ],
   "source": [
    "db.close()"
   ]
  }
 ],
 "metadata": {
  "kernelspec": {
   "display_name": "Python 3 (ipykernel)",
   "language": "python",
   "name": "python3"
  },
  "language_info": {
   "codemirror_mode": {
    "name": "ipython",
    "version": 3
   },
   "file_extension": ".py",
   "mimetype": "text/x-python",
   "name": "python",
   "nbconvert_exporter": "python",
   "pygments_lexer": "ipython3",
   "version": "3.12.4"
  }
 },
 "nbformat": 4,
 "nbformat_minor": 5
}
